{
 "cells": [
  {
   "cell_type": "code",
   "execution_count": null,
   "metadata": {},
   "outputs": [],
   "source": [
    "#This code fits a logistic regression model to classify HHSTATE (state)\n",
    "import pandas as pd\n",
    "from pathlib import Path\n",
    "from sklearn.model_selection import train_test_split\n",
    "from sklearn.linear_model import LogisticRegression"
   ]
  },
  {
   "cell_type": "code",
   "execution_count": null,
   "metadata": {},
   "outputs": [],
   "source": [
    "# here we load the data\n",
    "file_path = Path(\"path to dataset.csv\")\n",
    "wwc = pd.read_csv(file_path)"
   ]
  },
  {
   "cell_type": "code",
   "execution_count": null,
   "metadata": {},
   "outputs": [],
   "source": [
    "# Select relevant features, we want to pick top 10 features logically, there are robust methods too, you select logically. \n",
    "labels_names = ['GSYRGAL', 'FEGEMPG', 'ANNMILES', 'OD_READ', 'VEHAGE', 'HHVEHCNT', 'HHSIZE', 'HHSTATE']\n",
    "wwc = wwc[labels_names]"
   ]
  },
  {
   "cell_type": "code",
   "execution_count": null,
   "metadata": {},
   "outputs": [],
   "source": [
    "# Make all values greater than 0, now we make all values in the selected >0\n",
    "wwc = wwc[(wwc['GSYRGAL'] >= 0) & (wwc['OD_READ'] >= 0) & (wwc['ANNMILES'] >= 0) & (wwc['FEGEMPG'] >= 0) & (wwc['HHSIZE'] >= 0) & (wwc['VEHAGE'] >= 0) & (wwc['HHVEHCNT'] >= 0)]\n",
    "# Split data into training and testing sets\n",
    "X = wwc.drop('HHSTATE', axis=1) \n",
    "y = wwc['HHSTATE'] \n",
    "X_train, X_test, y_train, y_test = train_test_split(X, y, test_size=0.3, random_state=42)"
   ]
  },
  {
   "cell_type": "code",
   "execution_count": null,
   "metadata": {},
   "outputs": [],
   "source": [
    "# logistic regression\n",
    "logreg = LogisticRegression()"
   ]
  },
  {
   "cell_type": "code",
   "execution_count": null,
   "metadata": {},
   "outputs": [],
   "source": [
    "# Train using training sets\n",
    "logreg.fit(X_train, y_train)"
   ]
  },
  {
   "cell_type": "code",
   "execution_count": null,
   "metadata": {},
   "outputs": [],
   "source": [
    "# Make predictions using the testing set\n",
    "y2_pred = logreg.predict(X_test)"
   ]
  },
  {
   "cell_type": "code",
   "execution_count": null,
   "metadata": {},
   "outputs": [],
   "source": [
    "# The coefficients\n",
    "print(\"Coefficients: \\n\", logreg.coef_)\n",
    "# The accuracy\n",
    "print(\"Accuracy: %.2f\" % logreg.score(X_test, y_test))\n",
    "# The confusion matrix\n",
    "from sklearn.metrics import confusion_matrix\n",
    "print(\"Confusion matrix: \\n\", confusion_matrix(y_test, y2_pred))"
   ]
  }
 ],
 "metadata": {
  "kernelspec": {
   "display_name": "el",
   "language": "python",
   "name": "python3"
  },
  "language_info": {
   "codemirror_mode": {
    "name": "ipython",
    "version": 3
   },
   "file_extension": ".py",
   "mimetype": "text/x-python",
   "name": "python",
   "nbconvert_exporter": "python",
   "pygments_lexer": "ipython3",
   "version": "3.11.3"
  },
  "orig_nbformat": 4
 },
 "nbformat": 4,
 "nbformat_minor": 2
}
