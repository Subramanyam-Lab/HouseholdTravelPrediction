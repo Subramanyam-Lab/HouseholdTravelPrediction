{
 "cells": [
  {
   "cell_type": "code",
   "execution_count": null,
   "metadata": {},
   "outputs": [],
   "source": [
    "import pandas as pd\n",
    "import numpy as np\n",
    "from pathlib import Path\n",
    "import matplotlib.pyplot as plt\n",
    "import seaborn as sns\n",
    "\n",
    "file_path = Path(\"/Users/eduardolopez/downloads/csv/vehpub.csv\")\n",
    "wwc = pd.read_csv(file_path)"
   ]
  },
  {
   "cell_type": "code",
   "execution_count": null,
   "metadata": {},
   "outputs": [],
   "source": [
    "columns= ['HOUSEID', 'VEHID', 'VEHYEAR', 'VEHAGE', 'MAKE', 'MODEL', 'FUELTYPE',\n",
    "       'VEHTYPE', 'WHOMAIN', 'OD_READ', 'HFUEL', 'VEHOWNED', 'VEHOWNMO',\n",
    "       'ANNMILES', 'HYBRID', 'PERSONID', 'TRAVDAY', 'HOMEOWN', 'HHSIZE',\n",
    "       'HHVEHCNT', 'HHFAMINC', 'DRVRCNT', 'HHSTATE', 'HHSTFIPS', 'NUMADLT',\n",
    "       'WRKCOUNT', 'TDAYDATE', 'LIF_CYC', 'MSACAT', 'MSASIZE', 'RAIL', 'URBAN',\n",
    "       'URBANSIZE', 'URBRUR', 'CENSUS_D', 'CENSUS_R', 'CDIVMSAR', 'HH_RACE',\n",
    "       'HH_HISP', 'HH_CBSA', 'SMPLSRCE', 'WTHHFIN', 'BESTMILE', 'BEST_FLG',\n",
    "       'BEST_EDT', 'BEST_OUT', 'HBHUR', 'HTHTNRNT', 'HTPPOPDN', 'HTRESDN',\n",
    "       'HTEEMPDN', 'HBHTNRNT', 'HBPPOPDN', 'HBRESDN', 'GSYRGAL', 'GSTOTCST',\n",
    "       'FEGEMPG', 'FEGEMPGA', 'GSCOST', 'FEGEMPGF']"
   ]
  },
  {
   "cell_type": "code",
   "execution_count": null,
   "metadata": {},
   "outputs": [],
   "source": [
    "wwc = wwc[(wwc['VEHAGE'] >= 0) & (wwc['OD_READ'] >= 0) & (wwc['GSTOTCST'] >= 0) & (wwc['FEGEMPG'] >= 0)]\n"
   ]
  },
  {
   "cell_type": "code",
   "execution_count": null,
   "metadata": {},
   "outputs": [],
   "source": [
    "for col in ['VEHAGE','OD_READ','GSTOTCST','FEGEMPG']:\n",
    "    sns.histplot(data=wwc, x=col)\n",
    "    plt.show()"
   ]
  },
  {
   "cell_type": "code",
   "execution_count": null,
   "metadata": {},
   "outputs": [],
   "source": [
    "mean_age = wwc['VEHAGE'].mean()\n",
    "median_age = wwc['VEHAGE'].median()\n",
    "std_dev_age = wwc['VEHAGE'].std()\n",
    "mean_abs_dev_age = np.abs(wwc['VEHAGE'] - wwc['VEHAGE'].mean()).mean()"
   ]
  },
  {
   "cell_type": "code",
   "execution_count": null,
   "metadata": {},
   "outputs": [],
   "source": [
    "print(\"Mean age:\", mean_age)\n",
    "print(\"Median age:\", median_age)\n",
    "print(\"Standard deviation of age:\", std_dev_age)\n",
    "print(\"Mean absolute deviation of age:\", mean_abs_dev_age)\n"
   ]
  },
  {
   "cell_type": "code",
   "execution_count": null,
   "metadata": {},
   "outputs": [],
   "source": [
    "mean_age = wwc['OD_READ'].mean()\n",
    "median_age = wwc['OD_READ'].median()\n",
    "std_dev_age = wwc['OD_READ'].std()\n",
    "mean_abs_dev_age = np.abs(wwc['OD_READ'] - wwc['OD_READ'].mean()).mean()"
   ]
  },
  {
   "cell_type": "code",
   "execution_count": null,
   "metadata": {},
   "outputs": [],
   "source": [
    "print(\"Mean read:\", mean_age)\n",
    "print(\"Median read:\", median_age)\n",
    "print(\"Standard deviation of read:\", std_dev_age)\n",
    "print(\"Mean absolute deviation of read:\", mean_abs_dev_age)"
   ]
  },
  {
   "cell_type": "code",
   "execution_count": null,
   "metadata": {},
   "outputs": [],
   "source": [
    "mean_age = wwc['GSTOTCST'].mean()\n",
    "median_age = wwc['GSTOTCST'].median()\n",
    "std_dev_age = wwc['GSTOTCST'].std()\n",
    "mean_abs_dev_age = np.abs(wwc['GSTOTCST'] - wwc['GSTOTCST'].mean()).mean()"
   ]
  },
  {
   "cell_type": "code",
   "execution_count": null,
   "metadata": {},
   "outputs": [],
   "source": [
    "print(\"Mean cost:\", mean_age)\n",
    "print(\"Median cost:\", median_age)\n",
    "print(\"Standard deviation of cost:\", std_dev_age)\n",
    "print(\"Mean absolute deviation of cost:\", mean_abs_dev_age)"
   ]
  },
  {
   "cell_type": "code",
   "execution_count": null,
   "metadata": {},
   "outputs": [],
   "source": [
    "mean_age = wwc['FEGEMPG'].mean()\n",
    "median_age = wwc['FEGEMPG'].median()\n",
    "std_dev_age = wwc['FEGEMPG'].std()\n",
    "mean_abs_dev_age = np.abs(wwc['FEGEMPG'] - wwc['FEGEMPG'].mean()).mean()"
   ]
  },
  {
   "cell_type": "code",
   "execution_count": null,
   "metadata": {},
   "outputs": [],
   "source": [
    "print(\"Mean economy:\", mean_age)\n",
    "print(\"Median economy:\", median_age)\n",
    "print(\"Standard deviation of economy:\", std_dev_age)\n",
    "print(\"Mean absolute deviation of economy:\", mean_abs_dev_age)"
   ]
  },
  {
   "cell_type": "code",
   "execution_count": null,
   "metadata": {},
   "outputs": [],
   "source": [
    "pd.plotting.scatter_matrix(wwc.iloc[:,[3, 9, 55, 56]],figsize=(15,15))"
   ]
  },
  {
   "cell_type": "code",
   "execution_count": null,
   "metadata": {},
   "outputs": [],
   "source": [
    "perc = np.linspace(0,100,len(wwc))"
   ]
  },
  {
   "cell_type": "code",
   "execution_count": null,
   "metadata": {},
   "outputs": [],
   "source": [
    "#EcovsFossilHistogram\n",
    "data = wwc[(wwc['VEHAGE'] >= 0) & (wwc['OD_READ'] >= 0) & (wwc['GSTOTCST'] >= 0) & (wwc['FEGEMPG'] >= 0)]\n",
    "fossil_data = wwc[(wwc['FUELTYPE'] == 1) | (wwc['FUELTYPE'] == 2)]\n",
    "eco_data = wwc[wwc['FUELTYPE']== 3]\n",
    "fig, (ax1, ax2) = plt.subplots(ncols=2, figsize=(20,10))\n",
    "ax1.hist(fossil_data['GSTOTCST'], bins=100)\n",
    "ax1.set_title('Fossil Fuel Dataset')\n",
    "ax1.set_xlabel('GSTOTCST')\n",
    "ax1.set_ylabel('Frequency')\n",
    "ax2.hist(eco_data['GSTOTCST'], bins=100)\n",
    "ax2.set_title('Ecological Dataset')\n",
    "ax2.set_xlabel('GSTOTCST')\n",
    "ax2.set_ylabel('Frequency')\n",
    "plt.xlim(0,80000)\n",
    "plt.show()"
   ]
  },
  {
   "cell_type": "code",
   "execution_count": null,
   "metadata": {},
   "outputs": [],
   "source": [
    "#UrbanvsRuralHistogram\n",
    "urban_data = wwc[wwc['URBRUR'] == 1]\n",
    "rural_data = wwc[wwc['URBRUR'] == 2]\n",
    "fig, (ax1, ax2) = plt.subplots(ncols=2, figsize=(20, 10))\n",
    "perc = np.linspace(0,100,len(data))\n",
    "ax1.hist(urban_data['GSTOTCST'], bins=100)\n",
    "ax1.set_title('Urban Dataset')\n",
    "ax1.set_xlabel('GSTOTCST')\n",
    "ax1.set_ylabel('Frequency')\n",
    "ax2.hist(rural_data['GSTOTCST'], bins=100)\n",
    "ax2.set_title('Rural Dataset')\n",
    "ax2.set_xlabel('GSTOTCST')\n",
    "ax2.set_ylabel('Frequency')\n",
    "plt.xlim(0,60000)\n",
    "plt.show()"
   ]
  },
  {
   "cell_type": "code",
   "execution_count": null,
   "metadata": {},
   "outputs": [],
   "source": [
    "#USvsPAHistogram\n",
    "us_data = wwc\n",
    "pa_data = wwc[wwc['HHSTATE'] == 'PA']\n",
    "fig, (ax1, ax2) = plt.subplots(ncols=2, figsize=(20, 10))\n",
    "perc = np.linspace(0,100,len(data))\n",
    "ax1.hist(us_data['GSTOTCST'], bins=100)\n",
    "ax1.set_title('US Dataset')\n",
    "ax1.set_xlabel('GSTOTCST')\n",
    "ax1.set_ylabel('Frequency')\n",
    "ax2.hist(pa_data['GSTOTCST'], bins=100)\n",
    "ax2.set_title('PA Dataset')\n",
    "ax2.set_xlabel('GSTOTCST')\n",
    "ax2.set_ylabel('Frequency')\n",
    "plt.xlim(0,80000)\n",
    "plt.show()"
   ]
  },
  {
   "cell_type": "code",
   "execution_count": null,
   "metadata": {},
   "outputs": [],
   "source": [
    "#Correlations\n",
    "vehage = wwc['VEHAGE']\n",
    "odread = wwc['OD_READ']\n",
    "gstotcst = wwc['GSTOTCST']\n",
    "fegempg = wwc['FEGEMPG']\n",
    "\n",
    "print(\"Correlations:\")\n",
    "print(vehage.corr(odread))\n",
    "print(vehage.corr(gstotcst))\n",
    "print(vehage.corr(fegempg))\n",
    "print(odread.corr(gstotcst))\n",
    "print(odread.corr(fegempg))\n",
    "print(gstotcst.corr(fegempg))"
   ]
  },
  {
   "cell_type": "code",
   "execution_count": null,
   "metadata": {},
   "outputs": [],
   "source": [
    "#EcovsFossilHistogram\n",
    "data = wwc[(wwc['VEHAGE'] >= 0) & (wwc['OD_READ'] >= 0) & (wwc['GSTOTCST'] >= 0) & (wwc['FEGEMPG'] >= 0)]\n",
    "fossil_data = wwc[(wwc['FUELTYPE'] == 1) | (wwc['FUELTYPE'] == 2)]\n",
    "eco_data = wwc[wwc['FUELTYPE'] == 3]\n",
    "\n",
    "fig, (ax1, ax2) = plt.subplots(ncols=2, figsize=(20, 10))"
   ]
  },
  {
   "cell_type": "code",
   "execution_count": null,
   "metadata": {},
   "outputs": [],
   "source": [
    "# calculate the percentage and plot the fossil fuel dataset\n",
    "n, bins, patches = ax1.hist(fossil_data['GSTOTCST'], bins=100, density=False)\n",
    "ax1.set_title('Fossil Fuel Dataset')\n",
    "ax1.set_xlabel('GSTOTCST')\n",
    "ax1.set_ylabel('Relative Frequency (%)')\n",
    "ax1.set_ylim(0, 100)\n",
    "for i in range(len(patches)):\n",
    "    patches[i].set_height(patches[i].get_height() / sum(n) * 100)"
   ]
  },
  {
   "cell_type": "code",
   "execution_count": null,
   "metadata": {},
   "outputs": [],
   "source": [
    "# calculate the percentage and plot the ecological dataset\n",
    "n, bins, patches = ax2.hist(eco_data['GSTOTCST'], bins=100, density=False)\n",
    "ax2.set_title('Ecological Dataset')\n",
    "ax2.set_xlabel('GSTOTCST')\n",
    "ax2.set_ylabel('Relative Frequency (%)')\n",
    "ax2.set_ylim(0, 100)\n",
    "for i in range(len(patches)):\n",
    "    patches[i].set_height(patches[i].get_height() / sum(n) * 100)\n",
    "\n",
    "plt.xlim(0, 80000)\n",
    "plt.show()"
   ]
  },
  {
   "cell_type": "code",
   "execution_count": null,
   "metadata": {},
   "outputs": [],
   "source": [
    "data = wwc[(wwc['VEHAGE'] >= 0) & (wwc['OD_READ'] >= 0) & (wwc['GSTOTCST'] >= 0) & (wwc['FEGEMPG'] >= 0)]\n",
    "urban_data = data[data['URBRUR'] == 1]\n",
    "rural_data = data[data['URBRUR'] == 2]\n",
    "\n",
    "fig, (ax1, ax2) = plt.subplots(ncols=2, figsize=(20, 10))"
   ]
  },
  {
   "cell_type": "code",
   "execution_count": null,
   "metadata": {},
   "outputs": [],
   "source": [
    "# plot the urban dataset\n",
    "n, bins, patches = ax1.hist(urban_data['GSTOTCST'], bins=100, density=False)\n",
    "ax1.set_title('Urban Dataset')\n",
    "ax1.set_xlabel('GSTOTCST')\n",
    "ax1.set_ylabel('Relative Frequency (%)')\n",
    "ax1.set_ylim(0, 100)\n",
    "plt.xlim(0, 10000)\n",
    "for i in range(len(patches)):\n",
    "    patches[i].set_height(patches[i].get_height() / len(urban_data) * 100)\n"
   ]
  },
  {
   "cell_type": "code",
   "execution_count": null,
   "metadata": {},
   "outputs": [],
   "source": [
    "\n",
    "# plot the rural dataset\n",
    "n, bins, patches = ax2.hist(rural_data['GSTOTCST'], bins=100, density=False)\n",
    "ax2.set_title('Rural Dataset')\n",
    "ax2.set_xlabel('GSTOTCST')\n",
    "ax2.set_ylabel('Relative Frequency (%)')\n",
    "ax2.set_ylim(0, 100)\n",
    "for i in range(len(patches)):\n",
    "    patches[i].set_height(patches[i].get_height() / len(rural_data) * 100)\n",
    "\n",
    "plt.xlim(0, 60000)\n",
    "plt.show()"
   ]
  },
  {
   "cell_type": "code",
   "execution_count": null,
   "metadata": {},
   "outputs": [],
   "source": [
    "data = wwc[(wwc['VEHAGE'] >= 0) & (wwc['OD_READ'] >= 0) & (wwc['GSTOTCST'] >= 0) & (wwc['FEGEMPG'] >= 0)]\n",
    "us_data = wwc\n",
    "pa_data = data[data['HHSTATE'] == 'PA']\n",
    "fig, (ax1, ax2) = plt.subplots(ncols=2, figsize=(20, 10))\n"
   ]
  },
  {
   "cell_type": "code",
   "execution_count": null,
   "metadata": {},
   "outputs": [],
   "source": [
    "# plot the US dataset\n",
    "n, bins, patches = ax1.hist(us_data['GSTOTCST'], bins=100, density=False)\n",
    "ax1.set_title('US Dataset')\n",
    "ax1.set_xlabel('GSTOTCST')\n",
    "ax1.set_ylabel('Relative Frequency (%)')\n",
    "ax1.set_ylim(0, 100)\n",
    "plt.xlim(0, 10000)\n",
    "for i in range(len(patches)):\n",
    "    patches[i].set_height(patches[i].get_height() / len(us_data) * 100)\n",
    "\n"
   ]
  },
  {
   "cell_type": "code",
   "execution_count": null,
   "metadata": {},
   "outputs": [],
   "source": [
    "# plot the PA dataset\n",
    "n, bins, patches = ax2.hist(pa_data['GSTOTCST'], bins=100, density=False)\n",
    "ax2.set_title('PA Dataset')\n",
    "ax2.set_xlabel('GSTOTCST')\n",
    "ax2.set_ylabel('Relative Frequency (%)')\n",
    "ax2.set_ylim(0, 100)\n",
    "for i in range(len(patches)):\n",
    "    patches[i].set_height(patches[i].get_height() / len(pa_data) * 100)\n",
    "\n",
    "plt.xlim(0, 80000)\n",
    "plt.show()"
   ]
  }
 ],
 "metadata": {
  "language_info": {
   "name": "python"
  },
  "orig_nbformat": 4
 },
 "nbformat": 4,
 "nbformat_minor": 2
}
